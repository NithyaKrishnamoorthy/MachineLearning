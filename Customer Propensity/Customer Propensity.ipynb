{
 "cells": [
  {
   "cell_type": "markdown",
   "metadata": {},
   "source": [
    "#### Importing the libraries"
   ]
  },
  {
   "cell_type": "code",
   "execution_count": 1,
   "metadata": {},
   "outputs": [],
   "source": [
    "import numpy as np\n",
    "import pandas as pd\n",
    "import matplotlib.pyplot as plt\n",
    "from sklearn.ensemble import RandomForestClassifier\n",
    "from sklearn.model_selection import KFold, cross_val_score, train_test_split, GridSearchCV\n",
    "from sklearn import linear_model,metrics\n",
    "from sklearn.metrics import f1_score\n",
    "from sklearn import naive_bayes\n",
    "from sklearn.metrics import roc_curve, roc_auc_score, auc, accuracy_score, confusion_matrix, classification_report\n",
    "from sklearn import preprocessing\n",
    "from sklearn import svm\n",
    "from sklearn.preprocessing import StandardScaler,MinMaxScaler\n",
    "from xgboost import XGBClassifier"
   ]
  },
  {
   "cell_type": "code",
   "execution_count": 2,
   "metadata": {},
   "outputs": [],
   "source": [
    "# Ignore warnings\n",
    "import warnings\n",
    "warnings.filterwarnings('ignore')"
   ]
  },
  {
   "cell_type": "markdown",
   "metadata": {},
   "source": [
    "#### Loading the data"
   ]
  },
  {
   "cell_type": "code",
   "execution_count": 3,
   "metadata": {},
   "outputs": [],
   "source": [
    "dataset=pd.read_csv(r'dataset\\bank-additional-full.csv',delimiter=';')"
   ]
  },
  {
   "cell_type": "code",
   "execution_count": 4,
   "metadata": {},
   "outputs": [
    {
     "data": {
      "text/plain": [
       "(41188, 21)"
      ]
     },
     "execution_count": 4,
     "metadata": {},
     "output_type": "execute_result"
    }
   ],
   "source": [
    "dataset.shape"
   ]
  },
  {
   "cell_type": "code",
   "execution_count": 5,
   "metadata": {},
   "outputs": [
    {
     "data": {
      "text/html": [
       "<div>\n",
       "<style scoped>\n",
       "    .dataframe tbody tr th:only-of-type {\n",
       "        vertical-align: middle;\n",
       "    }\n",
       "\n",
       "    .dataframe tbody tr th {\n",
       "        vertical-align: top;\n",
       "    }\n",
       "\n",
       "    .dataframe thead th {\n",
       "        text-align: right;\n",
       "    }\n",
       "</style>\n",
       "<table border=\"1\" class=\"dataframe\">\n",
       "  <thead>\n",
       "    <tr style=\"text-align: right;\">\n",
       "      <th></th>\n",
       "      <th>age</th>\n",
       "      <th>job</th>\n",
       "      <th>marital</th>\n",
       "      <th>education</th>\n",
       "      <th>default</th>\n",
       "      <th>housing</th>\n",
       "      <th>loan</th>\n",
       "      <th>contact</th>\n",
       "      <th>month</th>\n",
       "      <th>day_of_week</th>\n",
       "      <th>...</th>\n",
       "      <th>campaign</th>\n",
       "      <th>pdays</th>\n",
       "      <th>previous</th>\n",
       "      <th>poutcome</th>\n",
       "      <th>emp.var.rate</th>\n",
       "      <th>cons.price.idx</th>\n",
       "      <th>cons.conf.idx</th>\n",
       "      <th>euribor3m</th>\n",
       "      <th>nr.employed</th>\n",
       "      <th>y</th>\n",
       "    </tr>\n",
       "  </thead>\n",
       "  <tbody>\n",
       "    <tr>\n",
       "      <th>0</th>\n",
       "      <td>56</td>\n",
       "      <td>housemaid</td>\n",
       "      <td>married</td>\n",
       "      <td>basic.4y</td>\n",
       "      <td>no</td>\n",
       "      <td>no</td>\n",
       "      <td>no</td>\n",
       "      <td>telephone</td>\n",
       "      <td>may</td>\n",
       "      <td>mon</td>\n",
       "      <td>...</td>\n",
       "      <td>1</td>\n",
       "      <td>999</td>\n",
       "      <td>0</td>\n",
       "      <td>nonexistent</td>\n",
       "      <td>1.1</td>\n",
       "      <td>93.994</td>\n",
       "      <td>-36.4</td>\n",
       "      <td>4.857</td>\n",
       "      <td>5191.0</td>\n",
       "      <td>no</td>\n",
       "    </tr>\n",
       "    <tr>\n",
       "      <th>1</th>\n",
       "      <td>57</td>\n",
       "      <td>services</td>\n",
       "      <td>married</td>\n",
       "      <td>high.school</td>\n",
       "      <td>unknown</td>\n",
       "      <td>no</td>\n",
       "      <td>no</td>\n",
       "      <td>telephone</td>\n",
       "      <td>may</td>\n",
       "      <td>mon</td>\n",
       "      <td>...</td>\n",
       "      <td>1</td>\n",
       "      <td>999</td>\n",
       "      <td>0</td>\n",
       "      <td>nonexistent</td>\n",
       "      <td>1.1</td>\n",
       "      <td>93.994</td>\n",
       "      <td>-36.4</td>\n",
       "      <td>4.857</td>\n",
       "      <td>5191.0</td>\n",
       "      <td>no</td>\n",
       "    </tr>\n",
       "    <tr>\n",
       "      <th>2</th>\n",
       "      <td>37</td>\n",
       "      <td>services</td>\n",
       "      <td>married</td>\n",
       "      <td>high.school</td>\n",
       "      <td>no</td>\n",
       "      <td>yes</td>\n",
       "      <td>no</td>\n",
       "      <td>telephone</td>\n",
       "      <td>may</td>\n",
       "      <td>mon</td>\n",
       "      <td>...</td>\n",
       "      <td>1</td>\n",
       "      <td>999</td>\n",
       "      <td>0</td>\n",
       "      <td>nonexistent</td>\n",
       "      <td>1.1</td>\n",
       "      <td>93.994</td>\n",
       "      <td>-36.4</td>\n",
       "      <td>4.857</td>\n",
       "      <td>5191.0</td>\n",
       "      <td>no</td>\n",
       "    </tr>\n",
       "    <tr>\n",
       "      <th>3</th>\n",
       "      <td>40</td>\n",
       "      <td>admin.</td>\n",
       "      <td>married</td>\n",
       "      <td>basic.6y</td>\n",
       "      <td>no</td>\n",
       "      <td>no</td>\n",
       "      <td>no</td>\n",
       "      <td>telephone</td>\n",
       "      <td>may</td>\n",
       "      <td>mon</td>\n",
       "      <td>...</td>\n",
       "      <td>1</td>\n",
       "      <td>999</td>\n",
       "      <td>0</td>\n",
       "      <td>nonexistent</td>\n",
       "      <td>1.1</td>\n",
       "      <td>93.994</td>\n",
       "      <td>-36.4</td>\n",
       "      <td>4.857</td>\n",
       "      <td>5191.0</td>\n",
       "      <td>no</td>\n",
       "    </tr>\n",
       "    <tr>\n",
       "      <th>4</th>\n",
       "      <td>56</td>\n",
       "      <td>services</td>\n",
       "      <td>married</td>\n",
       "      <td>high.school</td>\n",
       "      <td>no</td>\n",
       "      <td>no</td>\n",
       "      <td>yes</td>\n",
       "      <td>telephone</td>\n",
       "      <td>may</td>\n",
       "      <td>mon</td>\n",
       "      <td>...</td>\n",
       "      <td>1</td>\n",
       "      <td>999</td>\n",
       "      <td>0</td>\n",
       "      <td>nonexistent</td>\n",
       "      <td>1.1</td>\n",
       "      <td>93.994</td>\n",
       "      <td>-36.4</td>\n",
       "      <td>4.857</td>\n",
       "      <td>5191.0</td>\n",
       "      <td>no</td>\n",
       "    </tr>\n",
       "  </tbody>\n",
       "</table>\n",
       "<p>5 rows × 21 columns</p>\n",
       "</div>"
      ],
      "text/plain": [
       "   age        job  marital    education  default housing loan    contact  \\\n",
       "0   56  housemaid  married     basic.4y       no      no   no  telephone   \n",
       "1   57   services  married  high.school  unknown      no   no  telephone   \n",
       "2   37   services  married  high.school       no     yes   no  telephone   \n",
       "3   40     admin.  married     basic.6y       no      no   no  telephone   \n",
       "4   56   services  married  high.school       no      no  yes  telephone   \n",
       "\n",
       "  month day_of_week  ...  campaign  pdays  previous     poutcome emp.var.rate  \\\n",
       "0   may         mon  ...         1    999         0  nonexistent          1.1   \n",
       "1   may         mon  ...         1    999         0  nonexistent          1.1   \n",
       "2   may         mon  ...         1    999         0  nonexistent          1.1   \n",
       "3   may         mon  ...         1    999         0  nonexistent          1.1   \n",
       "4   may         mon  ...         1    999         0  nonexistent          1.1   \n",
       "\n",
       "   cons.price.idx  cons.conf.idx  euribor3m  nr.employed   y  \n",
       "0          93.994          -36.4      4.857       5191.0  no  \n",
       "1          93.994          -36.4      4.857       5191.0  no  \n",
       "2          93.994          -36.4      4.857       5191.0  no  \n",
       "3          93.994          -36.4      4.857       5191.0  no  \n",
       "4          93.994          -36.4      4.857       5191.0  no  \n",
       "\n",
       "[5 rows x 21 columns]"
      ]
     },
     "execution_count": 5,
     "metadata": {},
     "output_type": "execute_result"
    }
   ],
   "source": [
    "dataset.head()"
   ]
  },
  {
   "cell_type": "markdown",
   "metadata": {},
   "source": [
    "#### Map Target values"
   ]
  },
  {
   "cell_type": "code",
   "execution_count": 6,
   "metadata": {},
   "outputs": [],
   "source": [
    "dataset['y']=dataset['y'].map({'yes':1,'no':0})"
   ]
  },
  {
   "cell_type": "markdown",
   "metadata": {},
   "source": [
    "#### Counting unknown values"
   ]
  },
  {
   "cell_type": "code",
   "execution_count": 7,
   "metadata": {},
   "outputs": [
    {
     "name": "stdout",
     "output_type": "stream",
     "text": [
      "column job has 330 unknown values.\n",
      "column marital has 80 unknown values.\n",
      "column education has 1731 unknown values.\n",
      "column default has 8597 unknown values.\n",
      "column housing has 990 unknown values.\n",
      "column loan has 990 unknown values.\n",
      "column contact has 0 unknown values.\n",
      "column month has 0 unknown values.\n",
      "column day_of_week has 0 unknown values.\n",
      "column poutcome has 0 unknown values.\n"
     ]
    }
   ],
   "source": [
    "for i in dataset.columns:\n",
    "    if dataset[i].dtype ==object:\n",
    "        count_unkown = dataset[i].str.count('unknown').sum()\n",
    "        print('column',i,'has',count_unkown,'unknown values.')"
   ]
  },
  {
   "cell_type": "markdown",
   "metadata": {},
   "source": [
    "#### Remove the unknown values "
   ]
  },
  {
   "cell_type": "code",
   "execution_count": 9,
   "metadata": {},
   "outputs": [
    {
     "name": "stdout",
     "output_type": "stream",
     "text": [
      "(30488, 20)\n"
     ]
    }
   ],
   "source": [
    "dataset=dataset[(dataset['job']!='unknown')&(dataset['marital']!='unknown')&(dataset['education']!='unknown')&(dataset['default']!='unknown')&(dataset['housing']!='unknown')&(dataset['loan']!='unknown')]\n",
    "print(dataset.shape)"
   ]
  },
  {
   "cell_type": "code",
   "execution_count": 8,
   "metadata": {},
   "outputs": [],
   "source": [
    "# Drop duration column\n",
    "dataset.drop(['duration'],axis=1,inplace=True)\n"
   ]
  },
  {
   "cell_type": "markdown",
   "metadata": {},
   "source": [
    "#### Convert categorical values to encoded values"
   ]
  },
  {
   "cell_type": "code",
   "execution_count": 10,
   "metadata": {},
   "outputs": [],
   "source": [
    "categorical_col=['job','marital','education','default','housing','loan','contact','month','day_of_week','poutcome']\n",
    "for item in categorical_col:\n",
    "    dataset[item]=dataset[item].astype('category')\n",
    "cat_columns = dataset.select_dtypes(['category']).columns\n",
    "dataset[cat_columns] = dataset[cat_columns].apply(lambda x: x.cat.codes)\n"
   ]
  },
  {
   "cell_type": "code",
   "execution_count": 11,
   "metadata": {},
   "outputs": [
    {
     "data": {
      "text/html": [
       "<div>\n",
       "<style scoped>\n",
       "    .dataframe tbody tr th:only-of-type {\n",
       "        vertical-align: middle;\n",
       "    }\n",
       "\n",
       "    .dataframe tbody tr th {\n",
       "        vertical-align: top;\n",
       "    }\n",
       "\n",
       "    .dataframe thead th {\n",
       "        text-align: right;\n",
       "    }\n",
       "</style>\n",
       "<table border=\"1\" class=\"dataframe\">\n",
       "  <thead>\n",
       "    <tr style=\"text-align: right;\">\n",
       "      <th></th>\n",
       "      <th>age</th>\n",
       "      <th>job</th>\n",
       "      <th>marital</th>\n",
       "      <th>education</th>\n",
       "      <th>default</th>\n",
       "      <th>housing</th>\n",
       "      <th>loan</th>\n",
       "      <th>contact</th>\n",
       "      <th>month</th>\n",
       "      <th>day_of_week</th>\n",
       "      <th>campaign</th>\n",
       "      <th>pdays</th>\n",
       "      <th>previous</th>\n",
       "      <th>poutcome</th>\n",
       "      <th>emp.var.rate</th>\n",
       "      <th>cons.price.idx</th>\n",
       "      <th>cons.conf.idx</th>\n",
       "      <th>euribor3m</th>\n",
       "      <th>nr.employed</th>\n",
       "      <th>y</th>\n",
       "    </tr>\n",
       "  </thead>\n",
       "  <tbody>\n",
       "    <tr>\n",
       "      <th>0</th>\n",
       "      <td>56</td>\n",
       "      <td>3</td>\n",
       "      <td>1</td>\n",
       "      <td>0</td>\n",
       "      <td>0</td>\n",
       "      <td>0</td>\n",
       "      <td>0</td>\n",
       "      <td>1</td>\n",
       "      <td>6</td>\n",
       "      <td>1</td>\n",
       "      <td>1</td>\n",
       "      <td>999</td>\n",
       "      <td>0</td>\n",
       "      <td>1</td>\n",
       "      <td>1.1</td>\n",
       "      <td>93.994</td>\n",
       "      <td>-36.4</td>\n",
       "      <td>4.857</td>\n",
       "      <td>5191.0</td>\n",
       "      <td>0</td>\n",
       "    </tr>\n",
       "    <tr>\n",
       "      <th>2</th>\n",
       "      <td>37</td>\n",
       "      <td>7</td>\n",
       "      <td>1</td>\n",
       "      <td>3</td>\n",
       "      <td>0</td>\n",
       "      <td>1</td>\n",
       "      <td>0</td>\n",
       "      <td>1</td>\n",
       "      <td>6</td>\n",
       "      <td>1</td>\n",
       "      <td>1</td>\n",
       "      <td>999</td>\n",
       "      <td>0</td>\n",
       "      <td>1</td>\n",
       "      <td>1.1</td>\n",
       "      <td>93.994</td>\n",
       "      <td>-36.4</td>\n",
       "      <td>4.857</td>\n",
       "      <td>5191.0</td>\n",
       "      <td>0</td>\n",
       "    </tr>\n",
       "    <tr>\n",
       "      <th>3</th>\n",
       "      <td>40</td>\n",
       "      <td>0</td>\n",
       "      <td>1</td>\n",
       "      <td>1</td>\n",
       "      <td>0</td>\n",
       "      <td>0</td>\n",
       "      <td>0</td>\n",
       "      <td>1</td>\n",
       "      <td>6</td>\n",
       "      <td>1</td>\n",
       "      <td>1</td>\n",
       "      <td>999</td>\n",
       "      <td>0</td>\n",
       "      <td>1</td>\n",
       "      <td>1.1</td>\n",
       "      <td>93.994</td>\n",
       "      <td>-36.4</td>\n",
       "      <td>4.857</td>\n",
       "      <td>5191.0</td>\n",
       "      <td>0</td>\n",
       "    </tr>\n",
       "    <tr>\n",
       "      <th>4</th>\n",
       "      <td>56</td>\n",
       "      <td>7</td>\n",
       "      <td>1</td>\n",
       "      <td>3</td>\n",
       "      <td>0</td>\n",
       "      <td>0</td>\n",
       "      <td>1</td>\n",
       "      <td>1</td>\n",
       "      <td>6</td>\n",
       "      <td>1</td>\n",
       "      <td>1</td>\n",
       "      <td>999</td>\n",
       "      <td>0</td>\n",
       "      <td>1</td>\n",
       "      <td>1.1</td>\n",
       "      <td>93.994</td>\n",
       "      <td>-36.4</td>\n",
       "      <td>4.857</td>\n",
       "      <td>5191.0</td>\n",
       "      <td>0</td>\n",
       "    </tr>\n",
       "    <tr>\n",
       "      <th>6</th>\n",
       "      <td>59</td>\n",
       "      <td>0</td>\n",
       "      <td>1</td>\n",
       "      <td>5</td>\n",
       "      <td>0</td>\n",
       "      <td>0</td>\n",
       "      <td>0</td>\n",
       "      <td>1</td>\n",
       "      <td>6</td>\n",
       "      <td>1</td>\n",
       "      <td>1</td>\n",
       "      <td>999</td>\n",
       "      <td>0</td>\n",
       "      <td>1</td>\n",
       "      <td>1.1</td>\n",
       "      <td>93.994</td>\n",
       "      <td>-36.4</td>\n",
       "      <td>4.857</td>\n",
       "      <td>5191.0</td>\n",
       "      <td>0</td>\n",
       "    </tr>\n",
       "    <tr>\n",
       "      <th>...</th>\n",
       "      <td>...</td>\n",
       "      <td>...</td>\n",
       "      <td>...</td>\n",
       "      <td>...</td>\n",
       "      <td>...</td>\n",
       "      <td>...</td>\n",
       "      <td>...</td>\n",
       "      <td>...</td>\n",
       "      <td>...</td>\n",
       "      <td>...</td>\n",
       "      <td>...</td>\n",
       "      <td>...</td>\n",
       "      <td>...</td>\n",
       "      <td>...</td>\n",
       "      <td>...</td>\n",
       "      <td>...</td>\n",
       "      <td>...</td>\n",
       "      <td>...</td>\n",
       "      <td>...</td>\n",
       "      <td>...</td>\n",
       "    </tr>\n",
       "    <tr>\n",
       "      <th>41183</th>\n",
       "      <td>73</td>\n",
       "      <td>5</td>\n",
       "      <td>1</td>\n",
       "      <td>5</td>\n",
       "      <td>0</td>\n",
       "      <td>1</td>\n",
       "      <td>0</td>\n",
       "      <td>0</td>\n",
       "      <td>7</td>\n",
       "      <td>0</td>\n",
       "      <td>1</td>\n",
       "      <td>999</td>\n",
       "      <td>0</td>\n",
       "      <td>1</td>\n",
       "      <td>-1.1</td>\n",
       "      <td>94.767</td>\n",
       "      <td>-50.8</td>\n",
       "      <td>1.028</td>\n",
       "      <td>4963.6</td>\n",
       "      <td>1</td>\n",
       "    </tr>\n",
       "    <tr>\n",
       "      <th>41184</th>\n",
       "      <td>46</td>\n",
       "      <td>1</td>\n",
       "      <td>1</td>\n",
       "      <td>5</td>\n",
       "      <td>0</td>\n",
       "      <td>0</td>\n",
       "      <td>0</td>\n",
       "      <td>0</td>\n",
       "      <td>7</td>\n",
       "      <td>0</td>\n",
       "      <td>1</td>\n",
       "      <td>999</td>\n",
       "      <td>0</td>\n",
       "      <td>1</td>\n",
       "      <td>-1.1</td>\n",
       "      <td>94.767</td>\n",
       "      <td>-50.8</td>\n",
       "      <td>1.028</td>\n",
       "      <td>4963.6</td>\n",
       "      <td>0</td>\n",
       "    </tr>\n",
       "    <tr>\n",
       "      <th>41185</th>\n",
       "      <td>56</td>\n",
       "      <td>5</td>\n",
       "      <td>1</td>\n",
       "      <td>6</td>\n",
       "      <td>0</td>\n",
       "      <td>1</td>\n",
       "      <td>0</td>\n",
       "      <td>0</td>\n",
       "      <td>7</td>\n",
       "      <td>0</td>\n",
       "      <td>2</td>\n",
       "      <td>999</td>\n",
       "      <td>0</td>\n",
       "      <td>1</td>\n",
       "      <td>-1.1</td>\n",
       "      <td>94.767</td>\n",
       "      <td>-50.8</td>\n",
       "      <td>1.028</td>\n",
       "      <td>4963.6</td>\n",
       "      <td>0</td>\n",
       "    </tr>\n",
       "    <tr>\n",
       "      <th>41186</th>\n",
       "      <td>44</td>\n",
       "      <td>9</td>\n",
       "      <td>1</td>\n",
       "      <td>5</td>\n",
       "      <td>0</td>\n",
       "      <td>0</td>\n",
       "      <td>0</td>\n",
       "      <td>0</td>\n",
       "      <td>7</td>\n",
       "      <td>0</td>\n",
       "      <td>1</td>\n",
       "      <td>999</td>\n",
       "      <td>0</td>\n",
       "      <td>1</td>\n",
       "      <td>-1.1</td>\n",
       "      <td>94.767</td>\n",
       "      <td>-50.8</td>\n",
       "      <td>1.028</td>\n",
       "      <td>4963.6</td>\n",
       "      <td>1</td>\n",
       "    </tr>\n",
       "    <tr>\n",
       "      <th>41187</th>\n",
       "      <td>74</td>\n",
       "      <td>5</td>\n",
       "      <td>1</td>\n",
       "      <td>5</td>\n",
       "      <td>0</td>\n",
       "      <td>1</td>\n",
       "      <td>0</td>\n",
       "      <td>0</td>\n",
       "      <td>7</td>\n",
       "      <td>0</td>\n",
       "      <td>3</td>\n",
       "      <td>999</td>\n",
       "      <td>1</td>\n",
       "      <td>0</td>\n",
       "      <td>-1.1</td>\n",
       "      <td>94.767</td>\n",
       "      <td>-50.8</td>\n",
       "      <td>1.028</td>\n",
       "      <td>4963.6</td>\n",
       "      <td>0</td>\n",
       "    </tr>\n",
       "  </tbody>\n",
       "</table>\n",
       "<p>30488 rows × 20 columns</p>\n",
       "</div>"
      ],
      "text/plain": [
       "       age  job  marital  education  default  housing  loan  contact  month  \\\n",
       "0       56    3        1          0        0        0     0        1      6   \n",
       "2       37    7        1          3        0        1     0        1      6   \n",
       "3       40    0        1          1        0        0     0        1      6   \n",
       "4       56    7        1          3        0        0     1        1      6   \n",
       "6       59    0        1          5        0        0     0        1      6   \n",
       "...    ...  ...      ...        ...      ...      ...   ...      ...    ...   \n",
       "41183   73    5        1          5        0        1     0        0      7   \n",
       "41184   46    1        1          5        0        0     0        0      7   \n",
       "41185   56    5        1          6        0        1     0        0      7   \n",
       "41186   44    9        1          5        0        0     0        0      7   \n",
       "41187   74    5        1          5        0        1     0        0      7   \n",
       "\n",
       "       day_of_week  campaign  pdays  previous  poutcome  emp.var.rate  \\\n",
       "0                1         1    999         0         1           1.1   \n",
       "2                1         1    999         0         1           1.1   \n",
       "3                1         1    999         0         1           1.1   \n",
       "4                1         1    999         0         1           1.1   \n",
       "6                1         1    999         0         1           1.1   \n",
       "...            ...       ...    ...       ...       ...           ...   \n",
       "41183            0         1    999         0         1          -1.1   \n",
       "41184            0         1    999         0         1          -1.1   \n",
       "41185            0         2    999         0         1          -1.1   \n",
       "41186            0         1    999         0         1          -1.1   \n",
       "41187            0         3    999         1         0          -1.1   \n",
       "\n",
       "       cons.price.idx  cons.conf.idx  euribor3m  nr.employed  y  \n",
       "0              93.994          -36.4      4.857       5191.0  0  \n",
       "2              93.994          -36.4      4.857       5191.0  0  \n",
       "3              93.994          -36.4      4.857       5191.0  0  \n",
       "4              93.994          -36.4      4.857       5191.0  0  \n",
       "6              93.994          -36.4      4.857       5191.0  0  \n",
       "...               ...            ...        ...          ... ..  \n",
       "41183          94.767          -50.8      1.028       4963.6  1  \n",
       "41184          94.767          -50.8      1.028       4963.6  0  \n",
       "41185          94.767          -50.8      1.028       4963.6  0  \n",
       "41186          94.767          -50.8      1.028       4963.6  1  \n",
       "41187          94.767          -50.8      1.028       4963.6  0  \n",
       "\n",
       "[30488 rows x 20 columns]"
      ]
     },
     "execution_count": 11,
     "metadata": {},
     "output_type": "execute_result"
    }
   ],
   "source": [
    "dataset"
   ]
  },
  {
   "cell_type": "markdown",
   "metadata": {},
   "source": [
    "#### Checking the target class"
   ]
  },
  {
   "cell_type": "code",
   "execution_count": 12,
   "metadata": {},
   "outputs": [
    {
     "data": {
      "text/plain": [
       "0    26629\n",
       "1     3859\n",
       "Name: y, dtype: int64"
      ]
     },
     "execution_count": 12,
     "metadata": {},
     "output_type": "execute_result"
    }
   ],
   "source": [
    "dataset['y'].value_counts()"
   ]
  },
  {
   "cell_type": "code",
   "execution_count": 55,
   "metadata": {},
   "outputs": [
    {
     "data": {
      "text/plain": [
       "<AxesSubplot:>"
      ]
     },
     "execution_count": 55,
     "metadata": {},
     "output_type": "execute_result"
    },
    {
     "data": {
      "image/png": "[encoded data removed]",
      "text/plain": [
       "<Figure size 432x288 with 1 Axes>"
      ]
     },
     "metadata": {
      "needs_background": "light"
     },
     "output_type": "display_data"
    }
   ],
   "source": [
    "dataset['y'].value_counts().plot(kind='bar')"
   ]
  },
  {
   "cell_type": "markdown",
   "metadata": {},
   "source": [
    "#### Downsampling the majority class \n",
    "The class 1 is low in number compared to the class 0. There is imbalance in the target class.<br> \n",
    "The dataset is downsampled to reduce this imbalance."
   ]
  },
  {
   "cell_type": "code",
   "execution_count": 13,
   "metadata": {},
   "outputs": [
    {
     "name": "stdout",
     "output_type": "stream",
     "text": [
      "(3859, 20)\n",
      "(6785, 20)\n",
      "(10644, 20)\n"
     ]
    }
   ],
   "source": [
    "np.random.seed(0)\n",
    "dataset_classyes=dataset[dataset['y']==1]\n",
    "dataset_classno=dataset[dataset['y']==0]\n",
    "\n",
    "sample=np.random.choice([True, False], len(dataset_classno), replace=True, p=[0.25, 0.75])\n",
    "#downsample dataset with class value 'no' \n",
    "dataset_classno_downsampled=dataset_classno[sample]\n",
    "print(dataset_classyes.shape)\n",
    "print(dataset_classno_downsampled.shape)\n",
    "\n",
    "finaldf = pd.concat([dataset_classno_downsampled,dataset_classyes])\n",
    "print(finaldf.shape)"
   ]
  },
  {
   "cell_type": "markdown",
   "metadata": {},
   "source": [
    "## Feature scaling"
   ]
  },
  {
   "cell_type": "code",
   "execution_count": 14,
   "metadata": {},
   "outputs": [],
   "source": [
    "mmScaler = MinMaxScaler()"
   ]
  },
  {
   "cell_type": "code",
   "execution_count": 15,
   "metadata": {},
   "outputs": [],
   "source": [
    "finaldf = pd.DataFrame(mmScaler.fit_transform(finaldf),\n",
    "                                  columns=finaldf.columns)\n",
    "        "
   ]
  },
  {
   "cell_type": "markdown",
   "metadata": {},
   "source": [
    "## Feature engineering"
   ]
  },
  {
   "cell_type": "markdown",
   "metadata": {},
   "source": [
    "#### Using RandomForest Classifier to find the feature importance"
   ]
  },
  {
   "cell_type": "code",
   "execution_count": 16,
   "metadata": {},
   "outputs": [],
   "source": [
    "X=finaldf.iloc[:,:-1] #all independent variables\n",
    "y=finaldf.iloc[:,-1] #target variable\n",
    "fit_rf=RandomForestClassifier(random_state=0)"
   ]
  },
  {
   "cell_type": "markdown",
   "metadata": {},
   "source": [
    "#### Using GridSearch for hyperparameter tuning"
   ]
  },
  {
   "cell_type": "code",
   "execution_count": null,
   "metadata": {},
   "outputs": [],
   "source": [
    "np.random.seed(0)\n",
    "param_dist = {'max_depth':[2,3,4],\n",
    "             'bootstrap':[True, False],\n",
    "              'n_estimators':[10,50,100],\n",
    "             'max_features':['auto','sqrt','log2',None],\n",
    "             'criterion':['gini','entropy']}\n",
    "\n",
    "cv_rf = GridSearchCV(fit_rf,cv=10,param_grid=param_dist,n_jobs=3)\n",
    "\n",
    "cv_rf.fit(X,y)\n",
    "\n",
    "print('Best parameters using grid search: \\n',\n",
    "     cv_rf.best_params_)"
   ]
  },
  {
   "cell_type": "markdown",
   "metadata": {},
   "source": [
    "Run Random Forest classifier for feature selection"
   ]
  },
  {
   "cell_type": "code",
   "execution_count": 17,
   "metadata": {},
   "outputs": [
    {
     "name": "stdout",
     "output_type": "stream",
     "text": [
      "Feature ranking:\n",
      "1. nr.employed - importance=0.31\n",
      "2. euribor3m - importance=0.18\n",
      "3. pdays - importance=0.13\n",
      "4. emp.var.rate - importance=0.13\n",
      "5. poutcome - importance=0.08\n",
      "6. cons.conf.idx - importance=0.08\n",
      "7. previous - importance=0.03\n",
      "8. month - importance=0.02\n",
      "9. cons.price.idx - importance=0.02\n",
      "10. contact - importance=0.01\n",
      "11. age - importance=0.01\n",
      "12. campaign - importance=0.0\n",
      "13. marital - importance=0.0\n",
      "14. day_of_week - importance=0.0\n",
      "15. education - importance=0.0\n",
      "16. job - importance=0.0\n",
      "17. loan - importance=0.0\n",
      "18. housing - importance=0.0\n",
      "19. default - importance=0.0\n"
     ]
    }
   ],
   "source": [
    "fit_rf.set_params(criterion='gini',n_estimators = 100,max_features='auto',max_depth=2,bootstrap=True)\n",
    "fit_rf.fit(X,y)\n",
    "\n",
    "def variable_importance(fit):\n",
    "    importances = fit.feature_importances_\n",
    "    indices = np.argsort(importances)[::-1]\n",
    "    return {'importance':importances,'index':indices}\n",
    "\n",
    "var_imp_rf=variable_importance(fit_rf)\n",
    "importances_rf=var_imp_rf['importance']\n",
    "indices_rf=var_imp_rf['index']\n",
    "\n",
    "print('Feature ranking:')\n",
    "feature_name=['age','job','marital','education','default','housing','loan','contact','month','day_of_week',\n",
    "              'campaign','pdays','previous','poutcome','emp.var.rate','cons.price.idx','cons.conf.idx','euribor3m','nr.employed']\n",
    "\n",
    "\n",
    "for i in range(0,indices_rf.shape[0]):\n",
    "    f = i\n",
    "    print('{0}. {1} - importance={2}'.format(f+1,feature_name[indices_rf[i]],round(importances_rf[indices_rf[f]],2)))\n"
   ]
  },
  {
   "cell_type": "code",
   "execution_count": 18,
   "metadata": {},
   "outputs": [],
   "source": [
    "from sklearn.model_selection import train_test_split"
   ]
  },
  {
   "cell_type": "code",
   "execution_count": 19,
   "metadata": {},
   "outputs": [],
   "source": [
    "feature_train, feature_test, target_train, target_test = train_test_split(X, y, test_size=0.4, random_state=2018, stratify = y)"
   ]
  },
  {
   "cell_type": "code",
   "execution_count": 20,
   "metadata": {},
   "outputs": [
    {
     "data": {
      "text/plain": [
       "((10644, 19), (10644,))"
      ]
     },
     "execution_count": 20,
     "metadata": {},
     "output_type": "execute_result"
    }
   ],
   "source": [
    "X.shape, y.shape"
   ]
  },
  {
   "cell_type": "code",
   "execution_count": 21,
   "metadata": {},
   "outputs": [
    {
     "data": {
      "text/plain": [
       "((6386, 19), (4258, 19), (6386,), (4258,))"
      ]
     },
     "execution_count": 21,
     "metadata": {},
     "output_type": "execute_result"
    }
   ],
   "source": [
    "feature_train.shape,feature_test.shape,target_train.shape,target_test.shape"
   ]
  },
  {
   "cell_type": "markdown",
   "metadata": {},
   "source": [
    "### Models"
   ]
  },
  {
   "cell_type": "code",
   "execution_count": 47,
   "metadata": {},
   "outputs": [],
   "source": [
    "class Model:\n",
    "    \"\"\"\n",
    "    class for model building\n",
    "    \"\"\"\n",
    "    \n",
    "    def __init__(self):\n",
    "            pass\n",
    "        \n",
    "    def logReg(self, X_train, X_val, Y_train, Y_val):\n",
    "        kfold, scores = KFold(n_splits=5, shuffle=True, random_state=2018), list()\n",
    "\n",
    "        # split data index to train and test\n",
    "        for train, test in kfold.split(X_train):\n",
    "            # specify train and test sets\n",
    "            x_train, x_test = X_train.iloc[train], X_train.iloc[test]\n",
    "            y_train, y_test = Y_train.iloc[train], Y_train.iloc[test]\n",
    "\n",
    "            # initialize the model\n",
    "            model = linear_model.LogisticRegression(random_state=2018)\n",
    "            # train\n",
    "            model.fit(x_train, y_train)\n",
    "            # predict for evaluation\n",
    "            preds = model.predict(x_test)\n",
    "            # compute f1-score\n",
    "            score = f1_score(y_test, preds)\n",
    "            scores.append(score)\n",
    "            test_pred = model.predict(X_val)\n",
    "            print('f1-score: ',score)\n",
    "        print(\"Average: \", sum(scores)/len(scores))\n",
    "        return model, scores, test_pred\n",
    "    \n",
    "    def naiveBayes(self, X_train, X_val, Y_train, Y_val):\n",
    "        kfold, scores = KFold(n_splits=5, shuffle=True, random_state=2018), list()\n",
    "        pred_tot_cb = []\n",
    "        for train, test in kfold.split(X_train):     \n",
    "            x_train, x_test = X_train.iloc[train], X_train.iloc[test]\n",
    "            y_train, y_test = Y_train.iloc[train], Y_train.iloc[test]\n",
    "\n",
    "            model = naive_bayes.GaussianNB()\n",
    "            # train\n",
    "            model.fit(x_train, y_train)\n",
    "            # predict for evaluation\n",
    "            preds = model.predict(x_test)\n",
    "            # compute f1-score\n",
    "            score = f1_score(y_test, preds)\n",
    "            scores.append(score)\n",
    "            test_pred = model.predict(X_val)\n",
    "            print('f1-score: ',score)\n",
    "        print(\"Average: \", sum(scores)/len(scores))\n",
    "        return model, scores, test_pred    \n",
    "   \n",
    "    def linearsvm(self, X_train, X_val, Y_train, Y_val):\n",
    "        kfold, scores = KFold(n_splits=5, shuffle=True, random_state=2018), list()\n",
    "        pred_tot_cb = []\n",
    "        for train, test in kfold.split(X_train):     \n",
    "            x_train, x_test = X_train.iloc[train], X_train.iloc[test]\n",
    "            y_train, y_test = Y_train.iloc[train], Y_train.iloc[test]\n",
    "\n",
    "            model = svm.SVC(kernel='linear', C=10)\n",
    "            # train\n",
    "            model.fit(x_train, y_train)\n",
    "            # predict for evaluation\n",
    "            preds = model.predict(x_test)\n",
    "            # compute f1-score\n",
    "            score = f1_score(y_test, preds)\n",
    "            scores.append(score)\n",
    "            test_pred = model.predict(X_val)\n",
    "            print('f1-score: ',score)\n",
    "        print(\"Average: \", sum(scores)/len(scores))\n",
    "        return model, scores, test_pred\n",
    "    \n",
    "    def rbfsvm(self, X_train, X_val, Y_train, Y_val):\n",
    "        kfold, scores = KFold(n_splits=5, shuffle=True, random_state=2018), list()\n",
    "        pred_tot_cb = []\n",
    "        for train, test in kfold.split(X_train):     \n",
    "            x_train, x_test = X_train.iloc[train], X_train.iloc[test]\n",
    "            y_train, y_test = Y_train.iloc[train], Y_train.iloc[test]\n",
    "\n",
    "            model = svm.SVC(kernel='rbf', C=10)\n",
    "            # train\n",
    "            model.fit(x_train, y_train)\n",
    "            # predict for evaluation\n",
    "            preds = model.predict(x_test)\n",
    "            # compute f1-score\n",
    "            score = f1_score(y_test, preds)\n",
    "            scores.append(score)\n",
    "            test_pred = model.predict(X_val)\n",
    "            print('f1-score: ',score)\n",
    "        print(\"Average: \", sum(scores)/len(scores))\n",
    "        return model, scores, test_pred\n",
    "    \n",
    "    def polysvm(self, X_train, X_val, Y_train, Y_val):\n",
    "        kfold, scores = KFold(n_splits=5, shuffle=True, random_state=2018), list()\n",
    "        pred_tot_cb = []\n",
    "        for train, test in kfold.split(X_train):     \n",
    "            x_train, x_test = X_train.iloc[train], X_train.iloc[test]\n",
    "            y_train, y_test = Y_train.iloc[train], Y_train.iloc[test]\n",
    "\n",
    "            model = svm.SVC(kernel='poly', C=10)\n",
    "            # train\n",
    "            model.fit(x_train, y_train)\n",
    "            # predict for evaluation\n",
    "            preds = model.predict(x_test)\n",
    "            # compute f1-score\n",
    "            score = f1_score(y_test, preds)\n",
    "            scores.append(score)\n",
    "            test_pred = model.predict(X_val)\n",
    "            print('f1-score: ',score)\n",
    "        print(\"Average: \", sum(scores)/len(scores))\n",
    "        return model, scores, test_pred\n",
    "    \n",
    "    def Xgb(self, X_train, X_val, Y_train, Y_val):\n",
    "        kfold, scores = KFold(n_splits=5, shuffle=True, random_state=2018), list()\n",
    "        pred_tot_cb = []\n",
    "        for train, test in kfold.split(X_train):     \n",
    "            x_train, x_test = X_train.iloc[train], X_train.iloc[test]\n",
    "            y_train, y_test = Y_train.iloc[train], Y_train.iloc[test]\n",
    "\n",
    "            model = XGBClassifier(random_state=2018,  n_estimators=800,  learning_rate=0.1,\n",
    "                              objective='binary:logistic')\n",
    "            eval_set  = [(x_train,y_train), (x_test,y_test)]\n",
    "            model.fit(x_train, y_train, eval_set=eval_set, eval_metric=\"auc\", verbose=400)\n",
    "            preds = model.predict(x_test)\n",
    "            score = f1_score(y_test, preds)\n",
    "            scores.append(score)\n",
    "            test_pred = model.predict(X_val)\n",
    "            pred_tot_cb.append(test_pred)\n",
    "            print('f1-score: ',score)\n",
    "        print(\"Average: \", sum(scores)/len(scores))\n",
    "\n",
    "        return model, scores, test_pred\n",
    "        \n",
    "\n",
    "\n",
    "\n",
    "    def randomForest(self, X_train, X_val, Y_train, Y_val):\n",
    "        from sklearn.ensemble import RandomForestClassifier\n",
    "        kfold, scores = KFold(n_splits=5, shuffle=True, random_state=2018), list()\n",
    "        pred_tot_cb = []\n",
    "        for train, test in kfold.split(X_train): \n",
    "            x_train, x_test = X_train.iloc[train], X_train.iloc[test]\n",
    "            y_train, y_test = Y_train.iloc[train], Y_train.iloc[test]\n",
    "\n",
    "            model = RandomForestClassifier(n_estimators=300)\n",
    "            model.fit(x_train, y_train)\n",
    "            preds = model.predict(x_test)\n",
    "            score = f1_score(y_test, preds)\n",
    "            scores.append(score)\n",
    "            test_pred = model.predict(X_val)\n",
    "            pred_tot_cb.append(test_pred)\n",
    "            print('f1-score: ',score)\n",
    "        print(\"Average: \", sum(scores)/len(scores))\n",
    "\n",
    "        return model, scores, test_pred\n",
    "    \n"
   ]
  },
  {
   "cell_type": "code",
   "execution_count": 48,
   "metadata": {},
   "outputs": [],
   "source": [
    "classifier = Model()"
   ]
  },
  {
   "cell_type": "code",
   "execution_count": 49,
   "metadata": {},
   "outputs": [],
   "source": [
    "featurecols = ['nr.employed', 'euribor3m','pdays','emp.var.rate','poutcome',\n",
    "               'cons.conf.idx','previous','month','cons.price.idx','contact','age']"
   ]
  },
  {
   "cell_type": "code",
   "execution_count": 50,
   "metadata": {},
   "outputs": [],
   "source": [
    "bank_train = feature_train[featurecols]\n",
    "bank_test = feature_test[featurecols]"
   ]
  },
  {
   "cell_type": "code",
   "execution_count": 26,
   "metadata": {},
   "outputs": [
    {
     "data": {
      "text/plain": [
       "((6386, 11), (4258, 11))"
      ]
     },
     "execution_count": 26,
     "metadata": {},
     "output_type": "execute_result"
    }
   ],
   "source": [
    "bank_train.shape, bank_test.shape"
   ]
  },
  {
   "cell_type": "code",
   "execution_count": 27,
   "metadata": {
    "scrolled": true
   },
   "outputs": [
    {
     "name": "stdout",
     "output_type": "stream",
     "text": [
      "f1-score:  0.6359223300970873\n",
      "f1-score:  0.661271676300578\n",
      "f1-score:  0.6508135168961201\n",
      "f1-score:  0.6305418719211823\n",
      "f1-score:  0.6493506493506493\n",
      "Average:  0.6455800089131234\n"
     ]
    }
   ],
   "source": [
    "logit_model, scores, prediction = classifier.logReg(bank_train, bank_test, target_train, target_test)"
   ]
  },
  {
   "cell_type": "code",
   "execution_count": 28,
   "metadata": {
    "scrolled": true
   },
   "outputs": [
    {
     "name": "stdout",
     "output_type": "stream",
     "text": [
      "f1-score:  0.6039119804400978\n",
      "f1-score:  0.6080760095011877\n",
      "f1-score:  0.5872442839951865\n",
      "f1-score:  0.5753086419753086\n",
      "f1-score:  0.6144859813084113\n",
      "Average:  0.5978053794440383\n"
     ]
    }
   ],
   "source": [
    "nb_model, scores, prediciton = classifier.naiveBayes(bank_train, bank_test, target_train, target_test)"
   ]
  },
  {
   "cell_type": "code",
   "execution_count": 29,
   "metadata": {
    "scrolled": true
   },
   "outputs": [
    {
     "name": "stdout",
     "output_type": "stream",
     "text": [
      "f1-score:  0.6341463414634146\n",
      "f1-score:  0.6248431618569636\n",
      "f1-score:  0.6210526315789473\n",
      "f1-score:  0.6287787182587666\n",
      "f1-score:  0.6122961104140526\n",
      "Average:  0.624223392714429\n"
     ]
    }
   ],
   "source": [
    "linearsvm_model, scores, prediction = classifier.linearsvm(bank_train, bank_test, target_train, target_test)"
   ]
  },
  {
   "cell_type": "code",
   "execution_count": 30,
   "metadata": {
    "scrolled": false
   },
   "outputs": [
    {
     "name": "stdout",
     "output_type": "stream",
     "text": [
      "f1-score:  0.6799065420560748\n",
      "f1-score:  0.6848072562358276\n",
      "f1-score:  0.6802884615384616\n",
      "f1-score:  0.6380952380952382\n",
      "f1-score:  0.675990675990676\n",
      "Average:  0.6718176347832556\n"
     ]
    }
   ],
   "source": [
    "rbfsvm_model, scores, prediction = classifier.rbfsvm(bank_train, bank_test, target_train, target_test)"
   ]
  },
  {
   "cell_type": "code",
   "execution_count": 51,
   "metadata": {},
   "outputs": [
    {
     "name": "stdout",
     "output_type": "stream",
     "text": [
      "f1-score:  0.6830409356725147\n",
      "f1-score:  0.6825396825396824\n",
      "f1-score:  0.6825775656324582\n",
      "f1-score:  0.6386554621848739\n",
      "f1-score:  0.677570093457944\n",
      "Average:  0.6728767478974945\n"
     ]
    }
   ],
   "source": [
    "polysvm_model, scores, prediction = classifier.polysvm(bank_train, bank_test, target_train, target_test)"
   ]
  },
  {
   "cell_type": "code",
   "execution_count": 31,
   "metadata": {},
   "outputs": [
    {
     "name": "stdout",
     "output_type": "stream",
     "text": [
      "f1-score:  0.6447219069239501\n",
      "f1-score:  0.6572052401746724\n",
      "f1-score:  0.6471962616822429\n",
      "f1-score:  0.6042154566744731\n",
      "f1-score:  0.6261261261261262\n",
      "Average:  0.635892998316293\n"
     ]
    }
   ],
   "source": [
    "rf_model, rf_scores, random_prediction = classifier.randomForest(bank_train, bank_test, target_train, target_test)"
   ]
  },
  {
   "cell_type": "code",
   "execution_count": 32,
   "metadata": {},
   "outputs": [
    {
     "name": "stdout",
     "output_type": "stream",
     "text": [
      "[0]\tvalidation_0-auc:0.80596\tvalidation_1-auc:0.80381\n",
      "[400]\tvalidation_0-auc:0.90758\tvalidation_1-auc:0.79482\n",
      "[799]\tvalidation_0-auc:0.93166\tvalidation_1-auc:0.77843\n",
      "f1-score:  0.6511056511056511\n",
      "[0]\tvalidation_0-auc:0.80665\tvalidation_1-auc:0.80883\n",
      "[400]\tvalidation_0-auc:0.91483\tvalidation_1-auc:0.79294\n",
      "[799]\tvalidation_0-auc:0.93226\tvalidation_1-auc:0.78169\n",
      "f1-score:  0.6776084407971863\n",
      "[0]\tvalidation_0-auc:0.81252\tvalidation_1-auc:0.79225\n",
      "[400]\tvalidation_0-auc:0.90673\tvalidation_1-auc:0.80457\n",
      "[799]\tvalidation_0-auc:0.92870\tvalidation_1-auc:0.79302\n",
      "f1-score:  0.6548672566371682\n",
      "[0]\tvalidation_0-auc:0.81279\tvalidation_1-auc:0.77541\n",
      "[400]\tvalidation_0-auc:0.91394\tvalidation_1-auc:0.75938\n",
      "[799]\tvalidation_0-auc:0.93416\tvalidation_1-auc:0.74898\n",
      "f1-score:  0.6309226932668328\n",
      "[0]\tvalidation_0-auc:0.81032\tvalidation_1-auc:0.78732\n",
      "[400]\tvalidation_0-auc:0.91324\tvalidation_1-auc:0.79037\n",
      "[799]\tvalidation_0-auc:0.93425\tvalidation_1-auc:0.77980\n",
      "f1-score:  0.6356968215158924\n",
      "Average:  0.6500401726645462\n"
     ]
    }
   ],
   "source": [
    "xgb_model, scores, prediction = classifier.Xgb(bank_train, bank_test, target_train, target_test)"
   ]
  },
  {
   "cell_type": "code",
   "execution_count": 52,
   "metadata": {},
   "outputs": [],
   "source": [
    "from sklearn.metrics import recall_score, f1_score\n",
    "models = [xgb_model, logit_model, polysvm_model,linearsvm_model, rbfsvm_model,rf_model]\n",
    "recall_score_list, f1_score_list = [], []\n",
    "for model in models:\n",
    "    score = recall_score(target_test, model.predict(bank_test))\n",
    "    recall_score_list.append(score)\n",
    "    score = f1_score(target_test, model.predict(bank_test))\n",
    "    f1_score_list.append(score)"
   ]
  },
  {
   "cell_type": "code",
   "execution_count": 53,
   "metadata": {},
   "outputs": [
    {
     "data": {
      "text/html": [
       "<div>\n",
       "<style scoped>\n",
       "    .dataframe tbody tr th:only-of-type {\n",
       "        vertical-align: middle;\n",
       "    }\n",
       "\n",
       "    .dataframe tbody tr th {\n",
       "        vertical-align: top;\n",
       "    }\n",
       "\n",
       "    .dataframe thead th {\n",
       "        text-align: right;\n",
       "    }\n",
       "</style>\n",
       "<table border=\"1\" class=\"dataframe\">\n",
       "  <thead>\n",
       "    <tr style=\"text-align: right;\">\n",
       "      <th></th>\n",
       "      <th>Model Names</th>\n",
       "      <th>Recall Score</th>\n",
       "      <th>F1-Score</th>\n",
       "    </tr>\n",
       "  </thead>\n",
       "  <tbody>\n",
       "    <tr>\n",
       "      <th>0</th>\n",
       "      <td>XGBoost</td>\n",
       "      <td>0.550518</td>\n",
       "      <td>0.628931</td>\n",
       "    </tr>\n",
       "    <tr>\n",
       "      <th>1</th>\n",
       "      <td>Logistic Regression</td>\n",
       "      <td>0.579016</td>\n",
       "      <td>0.649237</td>\n",
       "    </tr>\n",
       "    <tr>\n",
       "      <th>2</th>\n",
       "      <td>SVM (Polynomial Kernel)</td>\n",
       "      <td>0.630181</td>\n",
       "      <td>0.682089</td>\n",
       "    </tr>\n",
       "    <tr>\n",
       "      <th>3</th>\n",
       "      <td>SVM (Linear Kernel)</td>\n",
       "      <td>0.496762</td>\n",
       "      <td>0.605367</td>\n",
       "    </tr>\n",
       "    <tr>\n",
       "      <th>4</th>\n",
       "      <td>SVM (RBF Kernel)</td>\n",
       "      <td>0.627591</td>\n",
       "      <td>0.680239</td>\n",
       "    </tr>\n",
       "    <tr>\n",
       "      <th>5</th>\n",
       "      <td>Random Forest</td>\n",
       "      <td>0.552461</td>\n",
       "      <td>0.596295</td>\n",
       "    </tr>\n",
       "  </tbody>\n",
       "</table>\n",
       "</div>"
      ],
      "text/plain": [
       "               Model Names  Recall Score  F1-Score\n",
       "0                  XGBoost      0.550518  0.628931\n",
       "1      Logistic Regression      0.579016  0.649237\n",
       "2  SVM (Polynomial Kernel)      0.630181  0.682089\n",
       "3      SVM (Linear Kernel)      0.496762  0.605367\n",
       "4         SVM (RBF Kernel)      0.627591  0.680239\n",
       "5            Random Forest      0.552461  0.596295"
      ]
     },
     "execution_count": 53,
     "metadata": {},
     "output_type": "execute_result"
    }
   ],
   "source": [
    "# concat models and score\n",
    "model_names = ['XGBoost', 'Logistic Regression', 'SVM (Polynomial Kernel)', 'SVM (Linear Kernel)', 'SVM (RBF Kernel)','Random Forest']\n",
    "model_score = zip(model_names, recall_score_list, f1_score_list)\n",
    "model_score = pd.DataFrame(data=model_score, columns=['Model Names', 'Recall Score', 'F1-Score'])\n",
    "model_score"
   ]
  },
  {
   "cell_type": "code",
   "execution_count": 54,
   "metadata": {},
   "outputs": [
    {
     "data": {
      "text/html": [
       "<div>\n",
       "<style scoped>\n",
       "    .dataframe tbody tr th:only-of-type {\n",
       "        vertical-align: middle;\n",
       "    }\n",
       "\n",
       "    .dataframe tbody tr th {\n",
       "        vertical-align: top;\n",
       "    }\n",
       "\n",
       "    .dataframe thead th {\n",
       "        text-align: right;\n",
       "    }\n",
       "</style>\n",
       "<table border=\"1\" class=\"dataframe\">\n",
       "  <thead>\n",
       "    <tr style=\"text-align: right;\">\n",
       "      <th></th>\n",
       "      <th>Model Names</th>\n",
       "      <th>Recall Score</th>\n",
       "      <th>F1-Score</th>\n",
       "    </tr>\n",
       "  </thead>\n",
       "  <tbody>\n",
       "    <tr>\n",
       "      <th>2</th>\n",
       "      <td>SVM (Polynomial Kernel)</td>\n",
       "      <td>0.630181</td>\n",
       "      <td>0.682089</td>\n",
       "    </tr>\n",
       "    <tr>\n",
       "      <th>4</th>\n",
       "      <td>SVM (RBF Kernel)</td>\n",
       "      <td>0.627591</td>\n",
       "      <td>0.680239</td>\n",
       "    </tr>\n",
       "    <tr>\n",
       "      <th>1</th>\n",
       "      <td>Logistic Regression</td>\n",
       "      <td>0.579016</td>\n",
       "      <td>0.649237</td>\n",
       "    </tr>\n",
       "  </tbody>\n",
       "</table>\n",
       "</div>"
      ],
      "text/plain": [
       "               Model Names  Recall Score  F1-Score\n",
       "2  SVM (Polynomial Kernel)      0.630181  0.682089\n",
       "4         SVM (RBF Kernel)      0.627591  0.680239\n",
       "1      Logistic Regression      0.579016  0.649237"
      ]
     },
     "execution_count": 54,
     "metadata": {},
     "output_type": "execute_result"
    }
   ],
   "source": [
    "### conclusion: The top 3 models (in terms of Recall) - \n",
    "model_score.sort_values('Recall Score', ascending=False)[:3]"
   ]
  },
  {
   "cell_type": "code",
   "execution_count": null,
   "metadata": {},
   "outputs": [],
   "source": []
  }
 ],
 "metadata": {
  "kernelspec": {
   "display_name": "Python 3",
   "language": "python",
   "name": "python3"
  },
  "language_info": {
   "codemirror_mode": {
    "name": "ipython",
    "version": 3
   },
   "file_extension": ".py",
   "mimetype": "text/x-python",
   "name": "python",
   "nbconvert_exporter": "python",
   "pygments_lexer": "ipython3",
   "version": "3.7.3"
  }
 },
 "nbformat": 4,
 "nbformat_minor": 2
}
